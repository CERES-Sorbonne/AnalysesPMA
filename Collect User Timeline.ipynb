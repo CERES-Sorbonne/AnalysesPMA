{
 "cells": [
  {
   "cell_type": "markdown",
   "id": "c98cf73f",
   "metadata": {},
   "source": [
    "### Collect User Timeline\n",
    "\n",
    "This notebook is an example on how to download the full twitter history of a user id.\n",
    "Note: you will need an academic or professionnal token from twitter to do that."
   ]
  },
  {
   "cell_type": "code",
   "execution_count": null,
   "id": "f5141242",
   "metadata": {},
   "outputs": [],
   "source": [
    "import requests\n",
    "import json\n",
    "import os\n",
    "import time\n",
    "import hashlib\n",
    "\n",
    "from functools import wraps\n",
    "from pathlib import Path\n",
    "from enum import Enum"
   ]
  },
  {
   "cell_type": "code",
   "execution_count": null,
   "id": "fe32289f",
   "metadata": {},
   "outputs": [],
   "source": [
    "def generate_token():\n",
    "    with open(r\"C:\\Users\\Orion\\Documents\\Projets\\CERES\\credentials_pro.json\", 'r') as f:\n",
    "        return f\"Bearer {json.load(f)['token']}\""
   ]
  },
  {
   "cell_type": "code",
   "execution_count": null,
   "id": "cb757215",
   "metadata": {},
   "outputs": [],
   "source": [
    "API_ROUTE = \"https://api.twitter.com/2/\"\n",
    "STREAM_ROUTE = \"tweets/search/stream\"\n",
    "RULES_ROUTE = \"tweets/search/stream/rules\"\n",
    "FULL_SEARCH_ROUTE = \"tweets/search/all\"\n",
    "ROOT_FOLDER = r\"C:\\Users\\Orion\\Documents\\Projets\\CERES\\PMA\\UsersTweets\"\n",
    "# maximum size of the collect in octets\n",
    "MAX_SIZE = 10000000\n",
    "TOKEN = generate_token()\n",
    "params = {\n",
    "    \"tweet.fields\": \"public_metrics,referenced_tweets\",\n",
    "    \"expansions\": \"author_id,in_reply_to_user_id,attachments.media_keys\",\n",
    "    \"media.fields\": \"url\",\n",
    "    \"user.fields\": \"id,verified\"\n",
    "}"
   ]
  },
  {
   "cell_type": "code",
   "execution_count": null,
   "id": "99a3a9a8",
   "metadata": {},
   "outputs": [],
   "source": [
    "s = requests.Session()\n",
    "s.headers.update({\"Authorization\": TOKEN})"
   ]
  },
  {
   "cell_type": "code",
   "execution_count": null,
   "id": "09af83ed",
   "metadata": {},
   "outputs": [],
   "source": [
    "def get_full_user_tweets(user_id, resume_token=None):\n",
    "    params_search = {\n",
    "    \"tweet.fields\": \"public_metrics,referenced_tweets,possibly_sensitive,created_at,source,reply_settings,withheld\",\n",
    "    \"expansions\": \"author_id,in_reply_to_user_id,attachments.media_keys\",\n",
    "    \"media.fields\": \"url,public_metrics,type,alt_text\",\n",
    "    \"user.fields\": \"id,verified\",\n",
    "    \"max_results\": 500,\n",
    "    \"start_time\": \"2006-12-01T00:00:00Z\",\n",
    "    \"end_time\": \"2021-09-26T00:00:00Z\"\n",
    "    }\n",
    "    author_id = user_id\n",
    "    query = 'from:'+ str(author_id)\n",
    "    new_token = \"\" if not resume_token else resume_token\n",
    "    i = 0\n",
    "    total = 0\n",
    "    while new_token is not None:\n",
    "        if new_token != \"\":\n",
    "            params_search['next_token'] = new_token\n",
    "        res = s.get(API_ROUTE + FULL_SEARCH_ROUTE + '?query=' + query, params=params_search)\n",
    "        data = res.json()\n",
    "        count = data.get('meta', {}).get('result_count', 0)\n",
    "        total += count\n",
    "        print(f'on a récupéré {total} résultats')\n",
    "        if  count == 0:\n",
    "            print(f'aucun résultat pour cette requête, l\"id est peut etre invalide: {user_id}')\n",
    "            new_token = None\n",
    "        with open(os.path.join(ROOT_FOLDER, str(author_id) + '-' + str(i) + '.json'), 'w', encoding='utf-8') as f:\n",
    "            json.dump(data, f, ensure_ascii=False, indent=4)\n",
    "        new_token = data['meta'].get('next_token', None)\n",
    "        if i % 10 == 0:\n",
    "            print(\"5000 results collected, making a break\")\n",
    "            time.sleep(30)\n",
    "        i += 1\n",
    "    print('FINI')"
   ]
  },
  {
   "cell_type": "code",
   "execution_count": null,
   "id": "0f7baf45",
   "metadata": {},
   "outputs": [],
   "source": [
    "get_full_user_tweets(19822406, resume_token=\"1jzu9lk96gu5npw3ja2621m04xz6xebmxpumgedy3o1p\")"
   ]
  },
  {
   "cell_type": "code",
   "execution_count": null,
   "id": "35891e4f",
   "metadata": {},
   "outputs": [],
   "source": [
    "for id in [3336943089, 627503827, 493640854, 828290598599872512, 72489273, 2261320772, 2756277147]:\n",
    "    get_full_user_tweets(id)"
   ]
  },
  {
   "cell_type": "code",
   "execution_count": null,
   "id": "ad525d8f",
   "metadata": {},
   "outputs": [],
   "source": [
    "get_full_user_tweets(828290598599872515)"
   ]
  },
  {
   "cell_type": "code",
   "execution_count": null,
   "id": "7ec6014b",
   "metadata": {},
   "outputs": [],
   "source": [
    "files = os.listdir(ROOT_FOLDER)\n",
    "d = {}\n",
    "for f in files:\n",
    "    id_ = f.split('-')[0]\n",
    "    if id_ not in d:\n",
    "        d[id_] = []\n",
    "    d[id_].append(f)\n",
    "d.keys()"
   ]
  },
  {
   "cell_type": "code",
   "execution_count": null,
   "id": "d2f1dd16",
   "metadata": {},
   "outputs": [],
   "source": [
    "def tweets_to_csv(folder):\n",
    "    head = \"id;text;created_at;possibly_sensitive;reply_settings;source;retweet_count;reply_count;like_count;quote_count;referenced_tweets;images_url;in_reply_to_user_id;in_reply_to_user_name;in_reply_to_user_username\"\n",
    "    for key in d:\n",
    "        with open(f'{key}.csv', 'w') as f:\n",
    "            f.write(head)\n",
    "        for i in range(len(d[key])):\n",
    "            tweets = {}\n",
    "            path = os.path.join(folder, f'{key}-{i}.json')\n",
    "            print(path)\n",
    "            with open(path, 'r', encoding='utf-8') as f:\n",
    "                tweets = json.load(f)\n",
    "            media = tweets['includes'].get('media', [])\n",
    "            users = tweets['includes'].get('users', [])\n",
    "            for tweet in tweets['data']:\n",
    "                metrics = tweet['public_metrics']\n",
    "                referenced_tweets = ' '.join([t['id'] for t in tweet.get('referenced_tweets', [])])\n",
    "                media_keys = tweet.get('attachments', {}).get('media_keys', [])\n",
    "                images_url = []\n",
    "                if media_keys:\n",
    "                    for medium in media:\n",
    "                        if medium['media_key'] in media_keys and 'url' in medium:\n",
    "                            images_url.append(medium['url'])\n",
    "                in_reply_to_user_id = tweet.get('in_reply_to_user_id', None)\n",
    "                in_reply_to = {}\n",
    "                if in_reply_to_user_id:\n",
    "                    for user in users:\n",
    "                        if user['id'] == in_reply_to_user_id:\n",
    "                            in_reply_to = user\n",
    "                row = \"\\n\"\n",
    "                row += f\"\"\"{tweet['id']};\"{tweet['text'].strip()}\";{tweet['created_at']};\"\"\".replace('\\n', ' ')\n",
    "                row += f\"{tweet['possibly_sensitive']};{tweet['reply_settings']};{tweet['source']};\"\n",
    "                row += f\"{metrics['retweet_count']};{metrics['reply_count']};{metrics['like_count']};{metrics['quote_count']};\"\n",
    "                row += f\"{referenced_tweets or 'NA'};\"\n",
    "                row += f\"{' '.join(images_url) if images_url else 'NA'};\"\n",
    "                row += f\"{in_reply_to_user_id or 'NA'};{in_reply_to.get('name', 'NA')};{in_reply_to.get('username', 'NA')}\"\n",
    "                with open(f'{key}.csv', 'a', encoding='utf-8') as f:\n",
    "                    f.write(row)"
   ]
  },
  {
   "cell_type": "code",
   "execution_count": null,
   "id": "a9f85185",
   "metadata": {},
   "outputs": [],
   "source": [
    "tweets_to_csv(ROOT_FOLDER)"
   ]
  }
 ],
 "metadata": {
  "kernelspec": {
   "display_name": "Python 3 (ipykernel)",
   "language": "python",
   "name": "python3"
  },
  "language_info": {
   "codemirror_mode": {
    "name": "ipython",
    "version": 3
   },
   "file_extension": ".py",
   "mimetype": "text/x-python",
   "name": "python",
   "nbconvert_exporter": "python",
   "pygments_lexer": "ipython3",
   "version": "3.9.5"
  }
 },
 "nbformat": 4,
 "nbformat_minor": 5
}
