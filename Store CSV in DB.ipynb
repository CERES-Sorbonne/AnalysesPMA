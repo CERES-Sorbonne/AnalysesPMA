{
 "cells": [
  {
   "cell_type": "markdown",
   "id": "0be0a6af",
   "metadata": {},
   "source": [
    "## Merge different datasets\n",
    "\n",
    "Some images and tweets of PMA were downloaded and the data were stored in a PGSQL database, and a different part of PMA was just stored as json files on a disk. This notebook aims to merge all this data in a database. "
   ]
  },
  {
   "cell_type": "code",
   "execution_count": 1,
   "id": "35cf998e",
   "metadata": {},
   "outputs": [],
   "source": [
    "import concurrent\n",
    "import pandas\n",
    "import os\n",
    "import json\n",
    "from tqdm import tqdm\n",
    "import psycopg2"
   ]
  },
  {
   "cell_type": "code",
   "execution_count": 2,
   "id": "fee77ade",
   "metadata": {},
   "outputs": [],
   "source": [
    "TWEETS = r\"/home/tyra/Documents/CERES/PMA/images_3\"\n",
    "HASHS = r\"/home/tyra/Documents/CERES/PMA/images_3/sha1.json\"\n",
    "AVERAGE_HASHS = r'/home/tyra/Documents/CERES/PMA/hashs/sha1_to_ahash_8.json'"
   ]
  },
  {
   "cell_type": "code",
   "execution_count": 3,
   "id": "431c6d04",
   "metadata": {},
   "outputs": [],
   "source": [
    "with open(HASHS, 'r') as f:\n",
    "    hashs = json.load(f)"
   ]
  },
  {
   "cell_type": "markdown",
   "id": "617587a4",
   "metadata": {},
   "source": [
    "## Merge Data\n",
    "Insert data collected in json format to the postgresql base"
   ]
  },
  {
   "cell_type": "code",
   "execution_count": 5,
   "id": "321a1bb0",
   "metadata": {},
   "outputs": [],
   "source": [
    "def insert_tweet(path, bar):\n",
    "    with open(path, 'r') as f:\n",
    "        tweet = json.load(f)\n",
    "    id_ = tweet['id']\n",
    "    full_text = tweet['text']\n",
    "    source = json.dumps(tweet)\n",
    "    # update the base with the tweet\n",
    "    cursor.execute(\"INSERT INTO pma_tweets (id, full_text, source) VALUES (%s, %s, %s)\", (id_, full_text, source))\n",
    "    if tweet.get('attachments', {}).get('media_keys', False):\n",
    "        for key in tweet['attachments']['media_keys']:\n",
    "            hash_ = hashs.get(key, None)\n",
    "            if hash_:\n",
    "                hash_, extension = hash_.split('.')\n",
    "                # print(key, extension, hash_, id_)\n",
    "                cursor.execute(\"INSERT INTO pma_media (id, extension, sha1, tweet_id) VALUES (%s, %s, %s, %s)\", \n",
    "                              (key, extension, hash_, id_))\n",
    "                # update the base with the image_key + the sha1 + tweet_id + extension\n",
    "    conn.commit()\n",
    "    bar.update(1)"
   ]
  },
  {
   "cell_type": "code",
   "execution_count": 24,
   "id": "b52d5bb9",
   "metadata": {},
   "outputs": [],
   "source": [
    "def delete_tweets():\n",
    "    conn = psycopg2.connect(host=\"localhost\", dbname=\"postgres\", user=\"postgres\", password=\"edwin007\")\n",
    "    cursor = conn.cursor()\n",
    "\n",
    "    for tweet in os.listdir(TWEETS):\n",
    "        with open(os.path.join(TWEETS, tweet), 'r') as f:\n",
    "            tweet = json.load(f)\n",
    "        try:\n",
    "            id_ = tweet['id']\n",
    "        except KeyError:\n",
    "            pass\n",
    "        cursor.execute(\"DELETE from pma_tweets WHERE id=%s\", (id_,))\n",
    "        if tweet.get('attachments', {}).get('media_keys', False):\n",
    "            for key in tweet['attachments']['media_keys']:\n",
    "                cursor.execute(\"DELETE from pma_media WHERE id=%s\", (key,))\n",
    "    conn.commit()"
   ]
  },
  {
   "cell_type": "code",
   "execution_count": null,
   "id": "bf2e085a",
   "metadata": {},
   "outputs": [],
   "source": [
    "delete_tweets()"
   ]
  },
  {
   "cell_type": "code",
   "execution_count": 6,
   "id": "5d15677d",
   "metadata": {},
   "outputs": [
    {
     "name": "stderr",
     "output_type": "stream",
     "text": [
      " 11%|███▉                               | 11964/107692 [00:23<03:06, 512.23it/s]\n"
     ]
    }
   ],
   "source": [
    "conn = psycopg2.connect(host=\"localhost\", dbname=\"postgres\", user=\"postgres\", password=\"edwin007\")\n",
    "cursor = conn.cursor()\n",
    "\n",
    "tweets = os.listdir(TWEETS)\n",
    "with tqdm(total=len(tweets)) as pbar:\n",
    "    with concurrent.futures.ThreadPoolExecutor() as executor:\n",
    "        [executor.submit(insert_tweet, os.path.join(TWEETS, tweet), pbar) for tweet in tweets]    "
   ]
  },
  {
   "cell_type": "markdown",
   "id": "1ad0b066",
   "metadata": {},
   "source": [
    "## Add Average Hashs to Data\n",
    "\n",
    "Add the average hashs of the image to the fred_pma_media table"
   ]
  },
  {
   "cell_type": "code",
   "execution_count": 3,
   "id": "fb5db452",
   "metadata": {},
   "outputs": [],
   "source": [
    "with open(AVERAGE_HASHS, 'r') as f:\n",
    "    hashs = json.load(f)\n",
    "\n",
    "# file in the form {sha1: ahash}"
   ]
  },
  {
   "cell_type": "code",
   "execution_count": 4,
   "id": "f3249128",
   "metadata": {},
   "outputs": [],
   "source": [
    "def update_ahash(sha1, ahash, pbar):\n",
    "    cursor.execute(\"UPDATE pma_media SET average_hash_8=%s WHERE sha1=%s\", (ahash, sha1))\n",
    "    conn.commit()\n",
    "    pbar.update(1)"
   ]
  },
  {
   "cell_type": "code",
   "execution_count": 5,
   "id": "42abadbe",
   "metadata": {},
   "outputs": [
    {
     "name": "stderr",
     "output_type": "stream",
     "text": [
      "100%|███████████████████████████████████| 64445/64445 [1:12:04<00:00, 14.90it/s]\n"
     ]
    }
   ],
   "source": [
    "conn = psycopg2.connect(host=\"localhost\", dbname=\"postgres\", user=\"postgres\", password=\"edwin007\")\n",
    "cursor = conn.cursor()\n",
    "\n",
    "with tqdm(total=len(hashs)) as pbar:\n",
    "    with concurrent.futures.ThreadPoolExecutor() as executor:\n",
    "        [executor.submit(update_ahash, sha1, hashs[sha1], pbar) for sha1 in hashs] "
   ]
  }
 ],
 "metadata": {
  "kernelspec": {
   "display_name": "Python 3 (ipykernel)",
   "language": "python",
   "name": "python3"
  },
  "language_info": {
   "codemirror_mode": {
    "name": "ipython",
    "version": 3
   },
   "file_extension": ".py",
   "mimetype": "text/x-python",
   "name": "python",
   "nbconvert_exporter": "python",
   "pygments_lexer": "ipython3",
   "version": "3.9.5"
  }
 },
 "nbformat": 4,
 "nbformat_minor": 5
}
