{
 "cells": [
  {
   "cell_type": "markdown",
   "id": "14b0f2d9",
   "metadata": {},
   "source": [
    "## Date plot for sha1 and ahash\n",
    "\n",
    "Objective: create plots to show the number of image mention for a specific sha1 or ahash"
   ]
  },
  {
   "cell_type": "code",
   "execution_count": null,
   "id": "c14b7a94",
   "metadata": {},
   "outputs": [],
   "source": [
    "import concurrent\n",
    "import pandas\n",
    "import os\n",
    "import json\n",
    "from tqdm import tqdm\n",
    "import psycopg2\n",
    "from datetime import timedelta\n",
    "import matplotlib.pyplot as plt\n",
    "import matplotlib.dates as mdates"
   ]
  },
  {
   "cell_type": "code",
   "execution_count": null,
   "id": "aa7b4303",
   "metadata": {},
   "outputs": [],
   "source": [
    "ahash = \"0202c3c7e7fbfd19\" # display the number of images for one ahash or the number of sha1 ? \n",
    "sha1 = \"003006be00fa0b45687c9413ba52fea04b7dac9b\"\n",
    "conn = psycopg2.connect(host=\"localhost\", dbname=\"postgres\", user=\"postgres\", password=\"edwin007\")"
   ]
  },
  {
   "cell_type": "code",
   "execution_count": null,
   "id": "24170058",
   "metadata": {},
   "outputs": [],
   "source": [
    "def get_ahash(ahash):\n",
    "    req = \"\"\"select date_trunc('week', tweets.created_at) as weekly, count(*)\n",
    "    from pma_media join import.pma_full as tweets\n",
    "    on pma_media.tweet_id = tweets.id\n",
    "    where pma_media.average_hash_8 = %s\n",
    "    group by weekly\"\"\"\n",
    "    cursor = conn.cursor()\n",
    "    cursor.execute(req, (ahash,))\n",
    "    return cursor.fetchall()"
   ]
  },
  {
   "cell_type": "code",
   "execution_count": null,
   "id": "118777cb",
   "metadata": {},
   "outputs": [],
   "source": [
    "def get_sha1(sha1):\n",
    "    req = \"\"\"select date_trunc('week', tweets.created_at) as weekly, count(*)\n",
    "    from pma_media join import.pma_full as tweets\n",
    "    on pma_media.tweet_id = tweets.id\n",
    "    where pma_media.sha1 = %s\n",
    "    group by weekly\"\"\"\n",
    "    cursor = conn.cursor()\n",
    "    cursor.execute(req, (sha1,))\n",
    "    return cursor.fetchall()"
   ]
  },
  {
   "cell_type": "code",
   "execution_count": null,
   "id": "486153da",
   "metadata": {},
   "outputs": [],
   "source": [
    "def get_weeks_between(start, end):\n",
    "    delta = end - start\n",
    "    curr_date = start\n",
    "    all_dates = [curr_date]\n",
    "    while curr_date < end:\n",
    "        curr_date += timedelta(7)\n",
    "        all_dates.append(curr_date)\n",
    "    return all_dates"
   ]
  },
  {
   "cell_type": "code",
   "execution_count": null,
   "id": "9af61eb6",
   "metadata": {},
   "outputs": [],
   "source": [
    "def map_values(dates, res):\n",
    "    values = []\n",
    "    for d in dates:\n",
    "        found = False\n",
    "        for el in res:\n",
    "            if el[0] == d:\n",
    "                values.append(el[1])\n",
    "                found = True\n",
    "        if not found:\n",
    "            values.append(0)\n",
    "    return values"
   ]
  },
  {
   "cell_type": "code",
   "execution_count": null,
   "id": "2a739270",
   "metadata": {},
   "outputs": [],
   "source": [
    "def make_plot(dates, values, hash_, folder):\n",
    "    ax = plt.subplot(111)\n",
    "    ax.bar(dates, values, width=5)\n",
    "    ax.xaxis_date()\n",
    "    plt.gcf().autofmt_xdate()\n",
    "\n",
    "    for date, value in zip(dates, values):\n",
    "        ax.text(x=date, y=value + 20, s=str(value), fontdict=dict(fontsize=10))\n",
    "    plt.title(f\"Number of images with hash {hash_} per week\")\n",
    "    plt.savefig(os.path.join(folder, f'{hash_}.png'))\n",
    "    plt.clf()"
   ]
  },
  {
   "cell_type": "code",
   "execution_count": null,
   "id": "b3aea8aa",
   "metadata": {},
   "outputs": [],
   "source": [
    "def plot_ahash(ahash, folder=\"\"):\n",
    "    res = get_ahash(ahash)\n",
    "    if res == []:\n",
    "        return False\n",
    "    dates = get_weeks_between(res[0][0], res[len(res) - 1][0])\n",
    "    values = map_values(dates, res)\n",
    "    make_plot(dates, values, ahash, folder)\n",
    "    return True"
   ]
  },
  {
   "cell_type": "code",
   "execution_count": null,
   "id": "53542aea",
   "metadata": {},
   "outputs": [],
   "source": [
    "def plot_sha1(sha1, folder=\"\"):\n",
    "    res = get_sha1(sha1)\n",
    "    if res == []:\n",
    "        return\n",
    "    dates = get_weeks_between(res[0][0], res[len(res) - 1][0])\n",
    "    values = map_values(dates, res)\n",
    "    make_plot(dates, values, sha1, folder)"
   ]
  },
  {
   "cell_type": "code",
   "execution_count": null,
   "id": "7f2570ad",
   "metadata": {},
   "outputs": [],
   "source": [
    "# import matplotlib.dates as mdates\n",
    "# plt.gca().xaxis.set_major_formatter(mdates.DateFormatter('%m/%d/%Y'))\n",
    "# plt.gca().xaxis.set_major_locator(mdates.DayLocator())"
   ]
  },
  {
   "cell_type": "markdown",
   "id": "9ab58589",
   "metadata": {},
   "source": [
    "## Extract tweets and stats for one sha1"
   ]
  },
  {
   "cell_type": "code",
   "execution_count": null,
   "id": "144173a9",
   "metadata": {},
   "outputs": [],
   "source": [
    "def get_stats_sha1(sha1, folder='', name=\"\"):\n",
    "    req = \"select * from media_stats where sha1=%s\"\n",
    "    cursor = conn.cursor()\n",
    "    cursor.execute(req, (sha1,))\n",
    "    res = cursor.fetchone()\n",
    "    if not res:\n",
    "        print(\"failed for sha1 \" + sha1)\n",
    "        return\n",
    "    columns = [des[0] for des in cursor.description]\n",
    "    df = pandas.DataFrame([res], columns=columns)\n",
    "    df = df.drop(columns=['sha1', 'extension', 'average_hash_8'])\n",
    "    df = df.rename(columns={'oldest_tweet_id': 'oldest_tweet', 'oldest_creation_date': 'oldest_date', 'occurences_sha1': 'nb_sha1_corpus'})\n",
    "    print(folder)\n",
    "    df.to_html(os.path.join(folder, f'{name or sha1}.html'), index=False)\n",
    "    return df"
   ]
  },
  {
   "cell_type": "code",
   "execution_count": null,
   "id": "ff671533",
   "metadata": {},
   "outputs": [],
   "source": [
    "def get_tweets_sha1(sha1, folder=\"\", name=\"\"):\n",
    "    print(folder)\n",
    "    req = \"select real_text, from_user_name from import.pma_full as tweets join pma_media on tweets.id = pma_media.tweet_id where pma_media.sha1=%s\"\n",
    "    cursor = conn.cursor()\n",
    "    cursor.execute(req, (sha1,))\n",
    "    columns = [des[0] for des in cursor.description]\n",
    "    res = cursor.fetchall()\n",
    "    if res == []:\n",
    "        return\n",
    "    tweets = {}\n",
    "    for record in res:\n",
    "        tweets[record[0]] = [*tweets.get(record[0], []), record[1]]\n",
    "    tweets\n",
    "    output = \"\"\n",
    "    for key, value in tweets.items():\n",
    "        output += \"Texte: \\n\\n\"\n",
    "        output += key + \" \\n\\n\"\n",
    "        output += \"Utilisateurs: \\n\\n\"\n",
    "        output += ' '.join(value) + '\\n'\n",
    "        output += \"========================================================\\n\"\n",
    "    with open(os.path.join(folder, f'{name or sha1}.txt'), 'w') as f:\n",
    "        f.write(output)"
   ]
  },
  {
   "cell_type": "markdown",
   "id": "819c34be",
   "metadata": {},
   "source": [
    "## Generate Files for all sha1"
   ]
  },
  {
   "cell_type": "code",
   "execution_count": null,
   "id": "17869c45",
   "metadata": {},
   "outputs": [],
   "source": [
    "root = r'/home/tyra/Documents/pma_clean'\n",
    "precision = ''\n",
    "path = os.path.join(root, precision)\n",
    "path"
   ]
  },
  {
   "cell_type": "code",
   "execution_count": null,
   "id": "8c4b7563",
   "metadata": {},
   "outputs": [],
   "source": [
    "# for ahash in [el for el in os.listdir(path) if el != 'similar']:\n",
    "#    ahash_path = os.path.join(path, ahash)\n",
    "#     skip = not plot_ahash(ahash, ahash_path)\n",
    "#     if skip:\n",
    "#         continue\n",
    "#    print(ahash)\n",
    "for f in os.listdir(path):\n",
    "    name = f.split('.')[0]\n",
    "    sha1 = name.split('-')[-1]\n",
    "    # get_tweets_sha1(sha1, ahash_path, name)\n",
    "    get_stats_sha1(sha1, path, name)\n",
    "#         plot_sha1(sha1, ahash_path)"
   ]
  },
  {
   "cell_type": "markdown",
   "id": "84340dce",
   "metadata": {},
   "source": [
    "## Select all images by date"
   ]
  },
  {
   "cell_type": "code",
   "execution_count": null,
   "id": "f3d5d24f",
   "metadata": {},
   "outputs": [],
   "source": [
    "def export_by_date(start, end):\n",
    "    req = \"select sha1 from media_stats where oldest_creation_date > %s and oldest_creation_date < %s\"\n",
    "    cursor = conn.cursor()\n",
    "    cursor.execute(req, (start, end))\n",
    "    res = cursor.fetchall()\n",
    "    res = [el[0] for el in res]\n",
    "    import shutil\n",
    "    root = '/home/tyra/Documents/CERES/PMA/images'\n",
    "    output = f'/home/tyra/Documents/CERES/PMA/{start}_{end}'\n",
    "    os.makedirs(output, exist_ok=True)\n",
    "    images = os.listdir(root)\n",
    "    for sha1 in res:\n",
    "        for image in images:\n",
    "            if image.startswith(sha1):\n",
    "                shutil.copy(os.path.join(root, image), output)"
   ]
  },
  {
   "cell_type": "code",
   "execution_count": null,
   "id": "10beaa8f",
   "metadata": {},
   "outputs": [],
   "source": [
    "start = '2019-10-06' # will get this date included\n",
    "end = '2019-10-07' # will get not get this date\n",
    "\n",
    "start = '2020-10-10' # will get this date included\n",
    "end = '2020-10-11' # will get not get this date\n",
    "\n",
    "start = '2021-01-31' # will get this date included\n",
    "end = '2021-02-01' # will get not get this date\n",
    "\n",
    "start = '2021-06-08' # will get this date included\n",
    "end = '2021-06-09' # will get not get this date\n",
    "\n",
    "export_by_date(start, end)"
   ]
  },
  {
   "cell_type": "markdown",
   "id": "67b74fd2",
   "metadata": {},
   "source": [
    "## Detect images that should not be in corpus"
   ]
  },
  {
   "cell_type": "code",
   "execution_count": null,
   "id": "f0096e67",
   "metadata": {},
   "outputs": [],
   "source": [
    "req = \"\"\"\n",
    "select distinct media.sha1 , media.tweet_id, uniques.text, uniques.real_text\n",
    "from pma_uniques as uniques join pma_media as media on\n",
    "uniques.id = media.tweet_id\n",
    "where \n",
    "\tuniques.real_text is not null \n",
    "\tand substring(uniques.real_text, 0, 10) <> substring(uniques.text, 0, 10)\n",
    "\tand media.sha1 is not null;\n",
    "\"\"\"\n",
    "\n",
    "cursor = conn.cursor()\n",
    "cursor.execute(req, (start, end))\n",
    "res = cursor.fetchall()\n",
    "res = [el[0] for el in res]\n",
    "with open('/home/tyra/Documents/CERES/PMA/useless.json', 'w') as f:\n",
    "    json.dump(res, f)"
   ]
  },
  {
   "cell_type": "code",
   "execution_count": null,
   "id": "71677df1",
   "metadata": {},
   "outputs": [],
   "source": [
    "import shutil\n",
    "root = '/home/tyra/Documents/CERES/PMA/images'\n",
    "output = f'/home/tyra/Documents/CERES/PMA/failed'\n",
    "os.makedirs(output, exist_ok=True)\n",
    "images = os.listdir(root)\n",
    "for sha1 in res:\n",
    "    for image in images:\n",
    "        if image.startswith(sha1):\n",
    "            shutil.copy(os.path.join(root, image), output)"
   ]
  }
 ],
 "metadata": {
  "kernelspec": {
   "display_name": "Python 3 (ipykernel)",
   "language": "python",
   "name": "python3"
  },
  "language_info": {
   "codemirror_mode": {
    "name": "ipython",
    "version": 3
   },
   "file_extension": ".py",
   "mimetype": "text/x-python",
   "name": "python",
   "nbconvert_exporter": "python",
   "pygments_lexer": "ipython3",
   "version": "3.9.5"
  }
 },
 "nbformat": 4,
 "nbformat_minor": 5
}
