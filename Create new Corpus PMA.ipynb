{
 "cells": [
  {
   "cell_type": "markdown",
   "id": "35b764f8",
   "metadata": {},
   "source": [
    "## Select all sub corpus images\n",
    "\n",
    "We filtered the pma corpus to keep only tweets containing some keywords, and we referenced all the images associated in a csv file sha1_souscorpus_pma.csv. \n",
    "Based on that we just create a new folder containing the images."
   ]
  },
  {
   "cell_type": "code",
   "execution_count": 1,
   "id": "dd5f685f",
   "metadata": {},
   "outputs": [],
   "source": [
    "import os\n",
    "import pandas as pd"
   ]
  },
  {
   "cell_type": "code",
   "execution_count": 10,
   "id": "49021633",
   "metadata": {},
   "outputs": [],
   "source": [
    "root = '/home/tyra/Documents/CERES/PMA'\n",
    "input_ = 'images'\n",
    "output = 'sous_corpus_pma'\n",
    "file = 'sha1_souscorpus_pma.csv'"
   ]
  },
  {
   "cell_type": "code",
   "execution_count": 24,
   "id": "af7b9394",
   "metadata": {},
   "outputs": [
    {
     "data": {
      "text/html": [
       "<div>\n",
       "<style scoped>\n",
       "    .dataframe tbody tr th:only-of-type {\n",
       "        vertical-align: middle;\n",
       "    }\n",
       "\n",
       "    .dataframe tbody tr th {\n",
       "        vertical-align: top;\n",
       "    }\n",
       "\n",
       "    .dataframe thead th {\n",
       "        text-align: right;\n",
       "    }\n",
       "</style>\n",
       "<table border=\"1\" class=\"dataframe\">\n",
       "  <thead>\n",
       "    <tr style=\"text-align: right;\">\n",
       "      <th></th>\n",
       "      <th>sha1</th>\n",
       "      <th>extension</th>\n",
       "    </tr>\n",
       "  </thead>\n",
       "  <tbody>\n",
       "    <tr>\n",
       "      <th>0</th>\n",
       "      <td>0008255f72057dbf97e229199e6595e2deebecfd</td>\n",
       "      <td>jpg</td>\n",
       "    </tr>\n",
       "    <tr>\n",
       "      <th>1</th>\n",
       "      <td>000ae4b433acb21229b17679d28f9a148fad3429</td>\n",
       "      <td>jpg</td>\n",
       "    </tr>\n",
       "    <tr>\n",
       "      <th>2</th>\n",
       "      <td>000b95a9e0362dc88e50f6517ffb2d0fc0882b66</td>\n",
       "      <td>mp4</td>\n",
       "    </tr>\n",
       "    <tr>\n",
       "      <th>3</th>\n",
       "      <td>000d8566a4dd238e52bcd0dba9025073bed1d0df</td>\n",
       "      <td>jpg</td>\n",
       "    </tr>\n",
       "    <tr>\n",
       "      <th>4</th>\n",
       "      <td>000d9a5b6bf9e14b291fe5b645d5396347246cc3</td>\n",
       "      <td>jpg</td>\n",
       "    </tr>\n",
       "  </tbody>\n",
       "</table>\n",
       "</div>"
      ],
      "text/plain": [
       "                                       sha1 extension\n",
       "0  0008255f72057dbf97e229199e6595e2deebecfd       jpg\n",
       "1  000ae4b433acb21229b17679d28f9a148fad3429       jpg\n",
       "2  000b95a9e0362dc88e50f6517ffb2d0fc0882b66       mp4\n",
       "3  000d8566a4dd238e52bcd0dba9025073bed1d0df       jpg\n",
       "4  000d9a5b6bf9e14b291fe5b645d5396347246cc3       jpg"
      ]
     },
     "execution_count": 24,
     "metadata": {},
     "output_type": "execute_result"
    }
   ],
   "source": [
    "df = pd.read_csv(os.path.join(root, file), header=0)\n",
    "df.head()"
   ]
  },
  {
   "cell_type": "code",
   "execution_count": 25,
   "id": "50c8662a",
   "metadata": {},
   "outputs": [],
   "source": [
    "for sha1, ext in zip(list(df['sha1']), list(df['extension'])):\n",
    "    name = sha1 + '.' + ext\n",
    "    # print(name)\n",
    "    os.symlink(os.path.join(root, input_, name), os.path.join(root, output, name))"
   ]
  },
  {
   "cell_type": "markdown",
   "id": "7bace075",
   "metadata": {},
   "source": [
    "### Check which images of pma_clean are in the new corpus"
   ]
  },
  {
   "cell_type": "code",
   "execution_count": 26,
   "id": "237b6c6b",
   "metadata": {},
   "outputs": [],
   "source": [
    "to_check = '/home/tyra/Documents/pma_clean'"
   ]
  },
  {
   "cell_type": "code",
   "execution_count": 27,
   "id": "02cc0228",
   "metadata": {},
   "outputs": [],
   "source": [
    "liste = os.listdir(to_check)\n",
    "for image in liste:\n",
    "    if image not in os.listdir(os.path.join(root, output)):\n",
    "        os.remove(os.path.join(to_check, image))"
   ]
  }
 ],
 "metadata": {
  "kernelspec": {
   "display_name": "Python 3 (ipykernel)",
   "language": "python",
   "name": "python3"
  },
  "language_info": {
   "codemirror_mode": {
    "name": "ipython",
    "version": 3
   },
   "file_extension": ".py",
   "mimetype": "text/x-python",
   "name": "python",
   "nbconvert_exporter": "python",
   "pygments_lexer": "ipython3",
   "version": "3.9.5"
  }
 },
 "nbformat": 4,
 "nbformat_minor": 5
}
