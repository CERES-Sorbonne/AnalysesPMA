{
 "cells": [
  {
   "cell_type": "markdown",
   "id": "e22deb8e",
   "metadata": {},
   "source": [
    "# Merchandising analysis\n",
    "\n",
    "Create a tweet corpus based on all pictures about merchandising the human body."
   ]
  },
  {
   "cell_type": "code",
   "execution_count": null,
   "id": "74cc8d4b",
   "metadata": {},
   "outputs": [],
   "source": []
  }
 ],
 "metadata": {
  "kernelspec": {
   "display_name": "Python 3 (ipykernel)",
   "language": "python",
   "name": "python3"
  },
  "language_info": {
   "codemirror_mode": {
    "name": "ipython",
    "version": 3
   },
   "file_extension": ".py",
   "mimetype": "text/x-python",
   "name": "python",
   "nbconvert_exporter": "python",
   "pygments_lexer": "ipython3",
   "version": "3.9.5"
  }
 },
 "nbformat": 4,
 "nbformat_minor": 5
}
