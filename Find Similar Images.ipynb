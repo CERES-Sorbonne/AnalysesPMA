{
 "cells": [
  {
   "cell_type": "markdown",
   "id": "42b5eaf4",
   "metadata": {},
   "source": [
    "### Find similar images in a corpus"
   ]
  },
  {
   "cell_type": "code",
   "execution_count": 13,
   "id": "74514e85",
   "metadata": {},
   "outputs": [],
   "source": [
    "from PIL import Image\n",
    "import pandas as pd\n",
    "import imagehash\n",
    "import itertools\n",
    "import os\n",
    "import shutil\n",
    "import concurrent\n",
    "import tqdm\n",
    "import json\n",
    "from io import BytesIO"
   ]
  },
  {
   "cell_type": "markdown",
   "id": "81bff791",
   "metadata": {},
   "source": [
    "### Test imagehash library with some image samples"
   ]
  },
  {
   "cell_type": "code",
   "execution_count": null,
   "id": "6ef46406",
   "metadata": {},
   "outputs": [],
   "source": [
    "df = pd.DataFrame(columns=['image','ahash','phash','dhash','whash','colorhash'])\n",
    "\n",
    "for img in os.listdir(IMAGES_FOLDER):\n",
    "    file = Image.open(os.path.join(IMAGES_FOLDER, img))\n",
    "\n",
    "    data = {\n",
    "        'image': img,\n",
    "        'ahash': imagehash.average_hash(file),\n",
    "        'phash': imagehash.phash(file),\n",
    "        'dhash': imagehash.dhash(file),\n",
    "        'whash': imagehash.whash(file),\n",
    "        'colorhash': imagehash.colorhash(file),   \n",
    "    }\n",
    "    \n",
    "    df = df.append(data, ignore_index=True)"
   ]
  },
  {
   "cell_type": "code",
   "execution_count": 13,
   "id": "98e3c01a",
   "metadata": {
    "scrolled": true
   },
   "outputs": [
    {
     "data": {
      "text/html": [
       "<div>\n",
       "<style scoped>\n",
       "    .dataframe tbody tr th:only-of-type {\n",
       "        vertical-align: middle;\n",
       "    }\n",
       "\n",
       "    .dataframe tbody tr th {\n",
       "        vertical-align: top;\n",
       "    }\n",
       "\n",
       "    .dataframe thead th {\n",
       "        text-align: right;\n",
       "    }\n",
       "</style>\n",
       "<table border=\"1\" class=\"dataframe\">\n",
       "  <thead>\n",
       "    <tr style=\"text-align: right;\">\n",
       "      <th></th>\n",
       "      <th>image</th>\n",
       "      <th>ahash</th>\n",
       "      <th>phash</th>\n",
       "      <th>dhash</th>\n",
       "      <th>whash</th>\n",
       "      <th>colorhash</th>\n",
       "    </tr>\n",
       "  </thead>\n",
       "  <tbody>\n",
       "    <tr>\n",
       "      <th>0</th>\n",
       "      <td>blurry.PNG</td>\n",
       "      <td>00ff19bd81a1ffff</td>\n",
       "      <td>af4ad42751510f5d</td>\n",
       "      <td>a5256951554f0b36</td>\n",
       "      <td>00d711698181ffff</td>\n",
       "      <td>06200000180</td>\n",
       "    </tr>\n",
       "    <tr>\n",
       "      <th>1</th>\n",
       "      <td>high.png</td>\n",
       "      <td>00ff99bd81a1ffff</td>\n",
       "      <td>bf0ad42751510f5d</td>\n",
       "      <td>e5256971556f0b16</td>\n",
       "      <td>00d791a98181efff</td>\n",
       "      <td>03200000180</td>\n",
       "    </tr>\n",
       "    <tr>\n",
       "      <th>2</th>\n",
       "      <td>medium.jpg</td>\n",
       "      <td>00ff99bd81a1ffff</td>\n",
       "      <td>bf0ad42751510f5d</td>\n",
       "      <td>e5256951556f0b16</td>\n",
       "      <td>00d791a98181efff</td>\n",
       "      <td>03200000180</td>\n",
       "    </tr>\n",
       "    <tr>\n",
       "      <th>3</th>\n",
       "      <td>other.PNG</td>\n",
       "      <td>00ffff9d990100d9</td>\n",
       "      <td>fbd0453b5c1d1345</td>\n",
       "      <td>a4a5313171597333</td>\n",
       "      <td>00ffff9db90100d9</td>\n",
       "      <td>0b2010000c0</td>\n",
       "    </tr>\n",
       "    <tr>\n",
       "      <th>4</th>\n",
       "      <td>small.jpg</td>\n",
       "      <td>00ff99bd81a1ffff</td>\n",
       "      <td>ff0ad42751110f5d</td>\n",
       "      <td>a5256971556f0b16</td>\n",
       "      <td>00d791a98181efff</td>\n",
       "      <td>03200000180</td>\n",
       "    </tr>\n",
       "  </tbody>\n",
       "</table>\n",
       "</div>"
      ],
      "text/plain": [
       "        image             ahash             phash             dhash  \\\n",
       "0  blurry.PNG  00ff19bd81a1ffff  af4ad42751510f5d  a5256951554f0b36   \n",
       "1    high.png  00ff99bd81a1ffff  bf0ad42751510f5d  e5256971556f0b16   \n",
       "2  medium.jpg  00ff99bd81a1ffff  bf0ad42751510f5d  e5256951556f0b16   \n",
       "3   other.PNG  00ffff9d990100d9  fbd0453b5c1d1345  a4a5313171597333   \n",
       "4   small.jpg  00ff99bd81a1ffff  ff0ad42751110f5d  a5256971556f0b16   \n",
       "\n",
       "              whash    colorhash  \n",
       "0  00d711698181ffff  06200000180  \n",
       "1  00d791a98181efff  03200000180  \n",
       "2  00d791a98181efff  03200000180  \n",
       "3  00ffff9db90100d9  0b2010000c0  \n",
       "4  00d791a98181efff  03200000180  "
      ]
     },
     "execution_count": 13,
     "metadata": {},
     "output_type": "execute_result"
    }
   ],
   "source": [
    "df"
   ]
  },
  {
   "cell_type": "markdown",
   "id": "7fab0917",
   "metadata": {},
   "source": [
    "Ahash (average hash) seems to give the best results accross different kinds of images"
   ]
  },
  {
   "cell_type": "markdown",
   "id": "e1fe6c54",
   "metadata": {},
   "source": [
    "### Try average hash on real corpus"
   ]
  },
  {
   "cell_type": "code",
   "execution_count": 80,
   "id": "10128fa2",
   "metadata": {},
   "outputs": [],
   "source": [
    "prefix = '/home/tyra/Documents/CERES/PMA'\n",
    "userpaths = [os.path.join(prefix, path) for path in ['images_TDG', 'images_PMA', 'images_MPT']]\n",
    "output_path = r'/home/tyra/Documents/CERES/PMA/multi_corpus/'"
   ]
  },
  {
   "cell_type": "markdown",
   "id": "28ea8d28",
   "metadata": {},
   "source": [
    "Some images were collected by mistake and these images are referenced in a useless.json, these images will be taken out of the current analysis"
   ]
  },
  {
   "cell_type": "code",
   "execution_count": null,
   "id": "ef4286b5",
   "metadata": {},
   "outputs": [],
   "source": [
    "with open(os.path.join('/home/tyra/Documents/CERES/PMA', 'useless.json'), 'r') as f:\n",
    "    useless = json.load(f)"
   ]
  },
  {
   "cell_type": "code",
   "execution_count": 79,
   "id": "43ed9ed9",
   "metadata": {},
   "outputs": [
    {
     "data": {
      "text/plain": [
       "32039"
      ]
     },
     "execution_count": 79,
     "metadata": {},
     "output_type": "execute_result"
    }
   ],
   "source": [
    "def is_image(filename):\n",
    "        f = filename.lower()\n",
    "        return (f.endswith(\".png\") or f.endswith(\".jpg\") or \\\n",
    "            f.endswith(\".jpeg\") or f.endswith(\".bmp\") or \\\n",
    "            f.endswith(\".gif\") or '.jpg' in f or  f.endswith(\".svg\")) and f.split('.')[0] not in useless\n",
    "    \n",
    "image_filenames = []\n",
    "\n",
    "for userpath in userpaths:\n",
    "    image_filenames += [os.path.join(userpath, path) for path in os.listdir(userpath) if is_image(path)]\n",
    "len(image_filenames)"
   ]
  },
  {
   "cell_type": "markdown",
   "id": "aa45d178",
   "metadata": {},
   "source": [
    "Compute all hashs with specified precision"
   ]
  },
  {
   "cell_type": "code",
   "execution_count": 70,
   "id": "f146779a",
   "metadata": {},
   "outputs": [],
   "source": [
    "def hasher(path, dic, precision, bar):\n",
    "    img = Image.open(path)\n",
    "    hash_ = imagehash.average_hash(img, precision)\n",
    "    if str(hash_) not in dic:\n",
    "        dic[str(hash_)] = []\n",
    "    dic[str(hash_)].append(path)\n",
    "    bar.update(1)"
   ]
  },
  {
   "cell_type": "code",
   "execution_count": 73,
   "id": "5c69de28",
   "metadata": {},
   "outputs": [
    {
     "name": "stderr",
     "output_type": "stream",
     "text": [
      " 62%|███████████████████████▍              | 4085/6628 [00:11<00:07, 354.32it/s]\n"
     ]
    }
   ],
   "source": [
    "ahash_to_paths = {}\n",
    "precision = 7\n",
    "with tqdm.tqdm(total=len(image_filenames)) as pbar:\n",
    "    with concurrent.futures.ThreadPoolExecutor() as executor:\n",
    "        [executor.submit(hasher, path, ahash_to_paths, precision, pbar) for path in image_filenames]     "
   ]
  },
  {
   "cell_type": "markdown",
   "id": "e4668872",
   "metadata": {},
   "source": [
    "Create a dictionnary sha_1 -> ahash ta will be used to update the db"
   ]
  },
  {
   "cell_type": "code",
   "execution_count": 42,
   "id": "4fe47246",
   "metadata": {},
   "outputs": [],
   "source": [
    "sha1_to_ahash = {}\n",
    "\n",
    "for ahash, paths in ahash_to_paths.items():\n",
    "    for path in paths:\n",
    "        sha1 = path.split('/')[-1].split('.')[0]\n",
    "        sha1_to_ahash[sha1] = str(ahash)\n",
    "with open(os.path.join(output_path, f'sha1_to_ahash_{precision}.json'), 'w') as f:\n",
    "    json.dump(sha1_to_ahash, f)"
   ]
  },
  {
   "cell_type": "markdown",
   "id": "ce480738",
   "metadata": {},
   "source": [
    "Group images with similar hashs in same folder"
   ]
  },
  {
   "cell_type": "code",
   "execution_count": 77,
   "id": "a5f5875f",
   "metadata": {},
   "outputs": [],
   "source": [
    "for hash_, paths in ahash_to_paths.items():\n",
    "    if len(paths) > 0:\n",
    "        folder = os.path.join(output_path, str(precision), str(hash_))\n",
    "        os.makedirs(folder, exist_ok=True)\n",
    "        folders = []\n",
    "        for path in paths:\n",
    "            corpus, file = path.split('/')[-2:]\n",
    "            folders.append(corpus)\n",
    "            # use a simlink instead of copying the file\n",
    "            os.symlink(path, os.path.join(folder, f'{corpus}-{file}'))\n",
    "        # detect files that were in TDG and PMA\n",
    "        if len(folders) > 1:\n",
    "            TDG = False\n",
    "            PMA = False\n",
    "            for f in folders:\n",
    "                if 'tdg' in f:\n",
    "                    TDG = True\n",
    "                else:\n",
    "                    PMA = True\n",
    "            if TDG and PMA:\n",
    "                os.symlink(folder, output_path + 'multi/' + hash_)"
   ]
  }
 ],
 "metadata": {
  "kernelspec": {
   "display_name": "Python 3 (ipykernel)",
   "language": "python",
   "name": "python3"
  },
  "language_info": {
   "codemirror_mode": {
    "name": "ipython",
    "version": 3
   },
   "file_extension": ".py",
   "mimetype": "text/x-python",
   "name": "python",
   "nbconvert_exporter": "python",
   "pygments_lexer": "ipython3",
   "version": "3.9.5"
  }
 },
 "nbformat": 4,
 "nbformat_minor": 5
}
